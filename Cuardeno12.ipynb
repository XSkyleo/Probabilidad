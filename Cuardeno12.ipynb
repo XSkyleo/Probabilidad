{
  "nbformat": 4,
  "nbformat_minor": 0,
  "metadata": {
    "colab": {
      "provenance": [],
      "authorship_tag": "ABX9TyN6Kn+7R1LTnZLvBkoNknSg",
      "include_colab_link": true
    },
    "kernelspec": {
      "name": "python3",
      "display_name": "Python 3"
    },
    "language_info": {
      "name": "python"
    }
  },
  "cells": [
    {
      "cell_type": "markdown",
      "metadata": {
        "id": "view-in-github",
        "colab_type": "text"
      },
      "source": [
        "<a href=\"https://colab.research.google.com/github/XSkyleo/Probabilidad/blob/main/Cuardeno12.ipynb\" target=\"_parent\"><img src=\"https://colab.research.google.com/assets/colab-badge.svg\" alt=\"Open In Colab\"/></a>"
      ]
    },
    {
      "cell_type": "code",
      "execution_count": 2,
      "metadata": {
        "id": "mpcdnNdjnBhI"
      },
      "outputs": [],
      "source": [
        "import numpy as np\n",
        "from sklearn.linear_model import LinearRegression\n",
        "from sklearn.model_selection import train_test_split\n",
        "from sklearn.metrics import r2_score, mean_squared_error\n",
        "\n",
        "# Configuración para mostrar resultados con 3 decimales y sin notación científica\n",
        "np.set_printoptions(precision=3, suppress=True)\n",
        "\n",
        "def preparar_datos():\n",
        "\n",
        "# Matriz de variables independientes: volumen (x1) y peso (x2)\n",
        "  X = np.array([\n",
        "  [1000,790],\n",
        "  [1200,1160],\n",
        "  [1000,929],\n",
        "  [90,865],\n",
        "  [1500,1140],\n",
        "  [1000,929],\n",
        "  [1400,1109],\n",
        "  [1500,1365],\n",
        "  [1500,1112],\n",
        "  [1600,1150],\n",
        "  [1100,980],\n",
        "  [1300,990],\n",
        "  [1000,1112],\n",
        "  [1600,1252],\n",
        "  [1600,1326],\n",
        "  [1600,1330],\n",
        "  [1600,1365],\n",
        "  [2200,1280],\n",
        "  [1600,1119],\n",
        "  [2000,1328],\n",
        "  [1600, 1584],\n",
        "  [2000,1428],\n",
        "  [2100,1365],\n",
        "  [1600,1415],\n",
        "  [2000,1415],\n",
        "  [1500,1465],\n",
        "  [2000,1490],\n",
        "  [2000,1725],\n",
        "  [1600,1523],\n",
        "  [2000,1705],\n",
        "  [2100,1605],\n",
        "  [2000,1746],\n",
        "  [1600,1235],\n",
        "  [1600,1390],\n",
        "  [1600,1405],\n",
        "  [2500,1395]\n",
        "  ])\n",
        "\n",
        "  # Vector de la variable dependiente: CO2\n",
        "  y = np.array([99,95,95,90,105,105,90,92,98,99,99,101,99,94,97,97,99,104,104,105,94,99,99,99,99,102,104,114,109,114,115,117,104,108,109,120])\n",
        "\n",
        "  return X, y\n",
        "\n",
        "X,y = preparar_datos() #Separación de los datos de entrenamiento y de prueba\n",
        "X_train, X_test, y_train, y_test = train_test_split(X, y, test_size=0.3, random_state=42)\n",
        "\n",
        "def entrenar_modelo_regresion(X_train, y_train):#Usar los datos de entrenamiento para entrenar al modelo\n",
        "\n",
        "  # Crear instancia del modelo de regresión lineal\n",
        "  modelo = LinearRegression()\n",
        "\n",
        "  # Entrenar el modelo con los datos\n",
        "  modelo.fit(X_train, y_train)\n",
        "\n",
        "  return modelo"
      ]
    },
    {
      "cell_type": "code",
      "source": [
        "def obtener_coeficientes(modelo):\n",
        "\n",
        "  intercepto = modelo.intercept_ # Valor de β0\n",
        "  coeficientes = modelo.coef_ # Valores de β1 (volumen) y β2 (peso)\n",
        "\n",
        "\n",
        "  return intercepto, coeficientes"
      ],
      "metadata": {
        "id": "LO21py9ppTm4"
      },
      "execution_count": 6,
      "outputs": []
    },
    {
      "cell_type": "code",
      "source": [
        "def realizar_predicciones(modelo, X_test): #Realizar las predicciones con los datos de prueba\n",
        "\n",
        "  return modelo.predict(X_test)"
      ],
      "metadata": {
        "id": "STna66Z3pfps"
      },
      "execution_count": 8,
      "outputs": []
    },
    {
      "cell_type": "code",
      "source": [
        "def evaluar_modelo(valores_reales, valores_predichos):\n",
        "\n",
        "  r2 = r2_score(valores_reales, valores_predichos)\n",
        "  mse = mean_squared_error(valores_reales, valores_predichos)\n",
        "  return r2, mse"
      ],
      "metadata": {
        "id": "VlMvKrYAp5qM"
      },
      "execution_count": 9,
      "outputs": []
    },
    {
      "cell_type": "code",
      "source": [
        "def imprimir_resultados(intercepto, coeficientes, predicciones,\n",
        "valores_reales, r2, mse):\n",
        "\n",
        "  print(\"=== Resultados de la Regresión Múltiple ===\")\n",
        "  print(f\"Ecuación: y = {intercepto:.3f} + {coeficientes[0]:.3f}x1 +{coeficientes[1]:.3f}x2\")\n",
        "  print(\"\\nInterpretación:\")\n",
        "  print(f\"Intercepto (β0): {intercepto:.3f} C02 (CO2 cuando volumen y peso son 0)\")\n",
        "  print(f\"Coeficiente Volumen (β1): {coeficientes[0]:.3f} CO2 por m3\")\n",
        "  print(f\"Coeficiente Peso (β2): {coeficientes[1]:.3f} CO2 por g\")\n",
        "\n",
        "  print(\"\\nPredicciones vs. Valores reales:\")\n",
        "  for i in range(len(predicciones)):\n",
        "    print(f\"CO2 {i+1}: Predicción = {predicciones[i]:.3f}, Real ={valores_reales[i]:.3f}, Diferencia = {abs(predicciones[i] -valores_reales[i]):.3f}\")\n",
        "\n",
        "  print(\"\\nMétricas de evaluación:\")\n",
        "  print(f\"R2 (coeficiente de determinación): {r2:.3f}\")\n",
        "  print(f\"Error cuadrático medio (MSE): {mse:.3f}\")\n",
        "\n",
        "  resultado = intercepto + coeficientes[0] * 1800 + coeficientes[1] * 1300\n",
        "  print(f\"Ecuación: CO2 = ({intercepto:.3f} + ({coeficientes[0]:.3f}*1800) + ({coeficientes[1]:.3f}*1300)) = {resultado:.3f}\")"
      ],
      "metadata": {
        "id": "q7sAJ1_kp9QG"
      },
      "execution_count": 10,
      "outputs": []
    },
    {
      "cell_type": "code",
      "source": [
        "def principal():\n",
        "\n",
        "  # Paso 1: Preparar los datos\n",
        "  X, y = preparar_datos()\n",
        "\n",
        "  # Paso 2: Entrenar el modelo\n",
        "  modelo = entrenar_modelo_regresion(X_train, y_train)\n",
        "\n",
        "  # Paso 3: Obtener los coeficientes\n",
        "  intercepto, coeficientes = obtener_coeficientes(modelo)\n",
        "\n",
        "  # Paso 4: Realizar predicciones\n",
        "  predicciones = realizar_predicciones(modelo, X_test)\n",
        "\n",
        "  # Paso 5: Evaluar el modelo\n",
        "  r2, mse = evaluar_modelo(y_test, predicciones)\n",
        "\n",
        "  # Paso 6: Imprimir resultados\n",
        "  imprimir_resultados(intercepto, coeficientes, predicciones, y, r2, mse)\n",
        "\n",
        "if __name__ == \"__main__\":\n",
        "  principal()"
      ],
      "metadata": {
        "colab": {
          "base_uri": "https://localhost:8080/"
        },
        "id": "Hc_le2Frp_-k",
        "outputId": "855e5d6a-b9c3-416f-80a3-3af3e7a24ec3"
      },
      "execution_count": 11,
      "outputs": [
        {
          "output_type": "stream",
          "name": "stdout",
          "text": [
            "=== Resultados de la Regresión Múltiple ===\n",
            "Ecuación: y = 86.079 + 0.005x1 +0.006x2\n",
            "\n",
            "Interpretación:\n",
            "Intercepto (β0): 86.079 C02 (CO2 cuando volumen y peso son 0)\n",
            "Coeficiente Volumen (β1): 0.005 CO2 por m3\n",
            "Coeficiente Peso (β2): 0.006 CO2 por g\n",
            "\n",
            "Predicciones vs. Valores reales:\n",
            "CO2 1: Predicción = 107.093, Real =99.000, Diferencia = 8.093\n",
            "CO2 2: Predicción = 101.548, Real =95.000, Diferencia = 6.548\n",
            "CO2 3: Predicción = 104.994, Real =95.000, Diferencia = 9.994\n",
            "CO2 4: Predicción = 106.167, Real =90.000, Diferencia = 16.167\n",
            "CO2 5: Predicción = 102.184, Real =105.000, Diferencia = 2.816\n",
            "CO2 6: Predicción = 106.434, Real =105.000, Diferencia = 1.434\n",
            "CO2 7: Predicción = 104.645, Real =90.000, Diferencia = 14.645\n",
            "CO2 8: Predicción = 97.601, Real =92.000, Diferencia = 5.601\n",
            "CO2 9: Predicción = 100.234, Real =98.000, Diferencia = 2.234\n",
            "CO2 10: Predicción = 104.866, Real =99.000, Diferencia = 5.866\n",
            "CO2 11: Predicción = 100.975, Real =99.000, Diferencia = 1.975\n",
            "\n",
            "Métricas de evaluación:\n",
            "R2 (coeficiente de determinación): 0.401\n",
            "Error cuadrático medio (MSE): 42.529\n",
            "Ecuación: CO2 = (86.079 + (0.005*1800) + (0.006*1300)) = 102.872\n"
          ]
        }
      ]
    }
  ]
}